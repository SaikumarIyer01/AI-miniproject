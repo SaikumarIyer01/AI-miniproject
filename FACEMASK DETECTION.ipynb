{
 "cells": [
  {
   "cell_type": "code",
   "execution_count": 1,
   "id": "c6ef2dbc",
   "metadata": {
    "_cell_guid": "f2d9fead-7b13-4f53-9da4-cab3e00cde88",
    "_uuid": "acbae425-7885-424e-accc-b3dbdccf1238",
    "execution": {
     "iopub.execute_input": "2022-04-11T13:04:13.607798Z",
     "iopub.status.busy": "2022-04-11T13:04:13.606199Z",
     "iopub.status.idle": "2022-04-11T13:04:19.641177Z",
     "shell.execute_reply": "2022-04-11T13:04:19.640400Z",
     "shell.execute_reply.started": "2022-04-11T12:58:18.639695Z"
    },
    "jupyter": {
     "outputs_hidden": false
    },
    "papermill": {
     "duration": 6.04944,
     "end_time": "2022-04-11T13:04:19.641371",
     "exception": false,
     "start_time": "2022-04-11T13:04:13.591931",
     "status": "completed"
    },
    "tags": []
   },
   "outputs": [],
   "source": [
    "import os\n",
    "import numpy as np # linear algebra\n",
    "import pandas as pd # data processing, CSV file I/O (e.g. pd.read_csv)\n",
    "import matplotlib.pyplot as plt\n",
    "import random as rn\n",
    "import tensorflow as tf\n",
    "import cv2\n",
    "import xml.etree.ElementTree as ET\n",
    "from sklearn.model_selection import train_test_split\n",
    "from sklearn.preprocessing import LabelEncoder\n",
    "from sklearn.metrics import accuracy_score,precision_score,recall_score,confusion_matrix,roc_curve,roc_auc_score\n",
    "from keras.utils import np_utils\n",
    "from tensorflow.keras.preprocessing.image import ImageDataGenerator\n",
    "from tensorflow.keras.utils import to_categorical\n",
    "from tensorflow.keras.models import Sequential\n",
    "from tensorflow.keras.layers import Dense, Flatten, Dropout, Activation\n",
    "from tensorflow.keras.layers import Conv2D, MaxPooling2D\n",
    "from tensorflow.keras import optimizers\n",
    "from tensorflow.keras.callbacks import EarlyStopping"
   ]
  },
  {
   "cell_type": "code",
   "execution_count": 3,
   "id": "136b7751",
   "metadata": {
    "execution": {
     "iopub.execute_input": "2022-04-11T13:04:19.672790Z",
     "iopub.status.busy": "2022-04-11T13:04:19.672189Z",
     "iopub.status.idle": "2022-04-11T13:05:28.755661Z",
     "shell.execute_reply": "2022-04-11T13:05:28.754743Z",
     "shell.execute_reply.started": "2022-04-11T12:58:19.898164Z"
    },
    "papermill": {
     "duration": 69.103267,
     "end_time": "2022-04-11T13:05:28.755813",
     "exception": false,
     "start_time": "2022-04-11T13:04:19.652546",
     "status": "completed"
    },
    "tags": []
   },
   "outputs": [],
   "source": [
    "images = os.path.join('C:/Users/Saikumar/AI Miniproject/dataset','images')\n",
    "annotations = os.path.join('C:/Users/Saikumar/AI Miniproject/dataset','annotations')\n",
    "\n",
    "width = 80\n",
    "height = 80\n",
    "img_array = []\n",
    "labels = []\n",
    "\n",
    "def dim(obj):\n",
    "    \n",
    "    xmin = int(obj.find('xmin').text)\n",
    "    ymin = int(obj.find('ymin').text)\n",
    "    xmax = int(obj.find('xmax').text)\n",
    "    ymax = int(obj.find('ymax').text)\n",
    "    \n",
    "    return [xmin, ymin, xmax, ymax]\n",
    "\n",
    "for anot_file in sorted(os.listdir(annotations)):\n",
    "    file_path = annotations + \"/\" + anot_file\n",
    "    xml = ET.parse(file_path)\n",
    "    root = xml.getroot()\n",
    "    image = images + \"/\" + root[1].text\n",
    "\n",
    "    for bndbox in root.iter('bndbox'):\n",
    "        [xmin, ymin, xmax, ymax] = dim(bndbox)\n",
    "        img = cv2.imread(image)\n",
    "        img_pr = img[ymin:ymax,xmin:xmax]\n",
    "        img_pr  = cv2.resize(img_pr,(width, height))\n",
    "        img_array.append(np.array(img_pr))\n",
    "    for obj in root.findall('object'):\n",
    "        name = obj.find('name').text \n",
    "        labels.append(np.array(name)) "
   ]
  },
  {
   "cell_type": "markdown",
   "id": "b03a655c",
   "metadata": {
    "papermill": {
     "duration": 0.00877,
     "end_time": "2022-04-11T13:05:28.774106",
     "exception": false,
     "start_time": "2022-04-11T13:05:28.765336",
     "status": "completed"
    },
    "tags": []
   },
   "source": [
    "### normalizing feature variable and encoding labels"
   ]
  },
  {
   "cell_type": "code",
   "execution_count": 4,
   "id": "d95ef65a",
   "metadata": {
    "execution": {
     "iopub.execute_input": "2022-04-11T13:05:28.798322Z",
     "iopub.status.busy": "2022-04-11T13:05:28.797072Z",
     "iopub.status.idle": "2022-04-11T13:05:29.034921Z",
     "shell.execute_reply": "2022-04-11T13:05:29.035367Z",
     "shell.execute_reply.started": "2022-04-11T12:59:15.865787Z"
    },
    "papermill": {
     "duration": 0.252621,
     "end_time": "2022-04-11T13:05:29.035517",
     "exception": false,
     "start_time": "2022-04-11T13:05:28.782896",
     "status": "completed"
    },
    "tags": []
   },
   "outputs": [
    {
     "data": {
      "text/plain": [
       "array([[0., 0., 1.],\n",
       "       [0., 1., 0.],\n",
       "       [0., 0., 1.],\n",
       "       ...,\n",
       "       [1., 0., 0.],\n",
       "       [0., 1., 0.],\n",
       "       [0., 1., 0.]], dtype=float32)"
      ]
     },
     "execution_count": 4,
     "metadata": {},
     "output_type": "execute_result"
    }
   ],
   "source": [
    "x = np.array(img_array)\n",
    "X = x/255\n",
    "\n",
    "classes = 3\n",
    "encode = LabelEncoder().fit(labels)\n",
    "encoded_y = encode.transform(labels)\n",
    "y = np_utils.to_categorical(encoded_y, classes)\n",
    "y"
   ]
  },
  {
   "cell_type": "code",
   "execution_count": 5,
   "id": "f04e64a0",
   "metadata": {
    "execution": {
     "iopub.execute_input": "2022-04-11T13:05:29.059860Z",
     "iopub.status.busy": "2022-04-11T13:05:29.059209Z",
     "iopub.status.idle": "2022-04-11T13:05:29.061920Z",
     "shell.execute_reply": "2022-04-11T13:05:29.062363Z",
     "shell.execute_reply.started": "2022-04-11T12:59:16.092108Z"
    },
    "papermill": {
     "duration": 0.016992,
     "end_time": "2022-04-11T13:05:29.062485",
     "exception": false,
     "start_time": "2022-04-11T13:05:29.045493",
     "status": "completed"
    },
    "tags": []
   },
   "outputs": [
    {
     "data": {
      "text/plain": [
       "(4072, 80, 80, 3)"
      ]
     },
     "execution_count": 5,
     "metadata": {},
     "output_type": "execute_result"
    }
   ],
   "source": [
    "X.shape"
   ]
  },
  {
   "cell_type": "code",
   "execution_count": 6,
   "id": "d3cc50c6",
   "metadata": {
    "execution": {
     "iopub.execute_input": "2022-04-11T13:05:29.089163Z",
     "iopub.status.busy": "2022-04-11T13:05:29.088018Z",
     "iopub.status.idle": "2022-04-11T13:05:29.269636Z",
     "shell.execute_reply": "2022-04-11T13:05:29.269071Z",
     "shell.execute_reply.started": "2022-04-11T12:59:16.100704Z"
    },
    "papermill": {
     "duration": 0.197663,
     "end_time": "2022-04-11T13:05:29.269779",
     "exception": false,
     "start_time": "2022-04-11T13:05:29.072116",
     "status": "completed"
    },
    "tags": []
   },
   "outputs": [],
   "source": [
    "train_x, val_x, train_y, val_y = train_test_split(X,y,test_size = 0.33,random_state = 42)"
   ]
  },
  {
   "cell_type": "code",
   "execution_count": 7,
   "id": "56ef9449",
   "metadata": {
    "execution": {
     "iopub.execute_input": "2022-04-11T13:05:29.297583Z",
     "iopub.status.busy": "2022-04-11T13:05:29.296617Z",
     "iopub.status.idle": "2022-04-11T13:05:31.593569Z",
     "shell.execute_reply": "2022-04-11T13:05:31.594231Z",
     "shell.execute_reply.started": "2022-04-11T12:59:16.288472Z"
    },
    "papermill": {
     "duration": 2.314822,
     "end_time": "2022-04-11T13:05:31.594481",
     "exception": false,
     "start_time": "2022-04-11T13:05:29.279659",
     "status": "completed"
    },
    "tags": []
   },
   "outputs": [],
   "source": [
    "model = Sequential()\n",
    "model.add(Conv2D(filters = 64,kernel_size = (3,3),activation = 'relu',padding = 'same',input_shape = (width, height, 3)))\n",
    "model.add(MaxPooling2D(pool_size = (2,2)))\n",
    "\n",
    "model.add(Conv2D(filters = 96,kernel_size = (3,3),activation = 'relu',padding = 'same'))\n",
    "model.add(MaxPooling2D(pool_size = (2,2)))\n",
    "\n",
    "model.add(Conv2D(filters = 128,kernel_size = (3,3),activation = 'relu',padding = 'same'))\n",
    "model.add(Conv2D(filters = 128,kernel_size = (3,3),activation = 'relu',padding = 'same'))\n",
    "model.add(MaxPooling2D(pool_size = (2,2)))\n",
    "\n",
    "model.add(Flatten())\n",
    "model.add(Dense(512,activation = 'relu'))\n",
    "model.add(Dense(3,activation = \"softmax\"))\n",
    "\n",
    "b_size = 80\n",
    "n_epochs = 20\n",
    "\n",
    "opt = optimizers.RMSprop(learning_rate=1e-3)\n",
    "model.compile(optimizer=opt,\n",
    "              loss='kullback_leibler_divergence',\n",
    "              metrics=['accuracy'])"
   ]
  },
  {
   "cell_type": "code",
   "execution_count": 8,
   "id": "8c884e2d",
   "metadata": {
    "execution": {
     "iopub.execute_input": "2022-04-11T13:05:31.625066Z",
     "iopub.status.busy": "2022-04-11T13:05:31.623845Z",
     "iopub.status.idle": "2022-04-11T13:06:15.486111Z",
     "shell.execute_reply": "2022-04-11T13:06:15.485375Z",
     "shell.execute_reply.started": "2022-04-11T12:59:16.358544Z"
    },
    "papermill": {
     "duration": 43.879928,
     "end_time": "2022-04-11T13:06:15.486315",
     "exception": false,
     "start_time": "2022-04-11T13:05:31.606387",
     "status": "completed"
    },
    "tags": []
   },
   "outputs": [
    {
     "name": "stdout",
     "output_type": "stream",
     "text": [
      "Epoch 1/20\n",
      "34/34 [==============================] - 54s 2s/step - loss: 0.8662 - accuracy: 0.7500 - val_loss: 0.3269 - val_accuracy: 0.8772\n",
      "Epoch 2/20\n",
      "34/34 [==============================] - 51s 1s/step - loss: 0.3599 - accuracy: 0.8927 - val_loss: 0.2452 - val_accuracy: 0.9271\n",
      "Epoch 3/20\n",
      "34/34 [==============================] - 52s 2s/step - loss: 0.3246 - accuracy: 0.8931 - val_loss: 0.2106 - val_accuracy: 0.9323\n",
      "Epoch 4/20\n",
      "34/34 [==============================] - 55s 2s/step - loss: 0.3339 - accuracy: 0.8961 - val_loss: 0.2898 - val_accuracy: 0.9070\n",
      "Epoch 5/20\n",
      "34/34 [==============================] - 51s 1s/step - loss: 0.2744 - accuracy: 0.9177 - val_loss: 0.2435 - val_accuracy: 0.9338\n",
      "Epoch 5: early stopping\n"
     ]
    }
   ],
   "source": [
    "datagen = ImageDataGenerator(rescale = 1./255.,\n",
    "                             validation_split = 0.25,\n",
    "                             rotation_range = 10,\n",
    "                             width_shift_range = 0.2,\n",
    "                             height_shift_range = 0.2,\n",
    "                             zoom_range = 0.2,\n",
    "                             horizontal_flip = True,\n",
    "                             brightness_range = [0.2,1.2])\n",
    "\n",
    "reg = EarlyStopping(monitor = 'val_loss',patience = 2,verbose = 1,min_delta = 0.01)\n",
    "\n",
    "train = model.fit(datagen.flow(train_x, train_y, batch_size = b_size), \n",
    "                    steps_per_epoch = train_x.shape[0]//b_size,\n",
    "                    epochs = n_epochs, \n",
    "                    validation_data = (val_x,val_y), \n",
    "                    verbose=1, callbacks=[reg])"
   ]
  },
  {
   "cell_type": "code",
   "execution_count": 9,
   "id": "3d13a98f",
   "metadata": {
    "execution": {
     "iopub.execute_input": "2022-04-11T13:06:15.653615Z",
     "iopub.status.busy": "2022-04-11T13:06:15.652690Z",
     "iopub.status.idle": "2022-04-11T13:06:20.337162Z",
     "shell.execute_reply": "2022-04-11T13:06:20.336693Z",
     "shell.execute_reply.started": "2022-04-11T12:59:59.098769Z"
    },
    "papermill": {
     "duration": 4.751751,
     "end_time": "2022-04-11T13:06:20.337308",
     "exception": false,
     "start_time": "2022-04-11T13:06:15.585557",
     "status": "completed"
    },
    "tags": []
   },
   "outputs": [
    {
     "data": {
      "text/plain": [
       "Text(0, 0.5, 'Accuracy')"
      ]
     },
     "execution_count": 9,
     "metadata": {},
     "output_type": "execute_result"
    },
    {
     "data": {
      "image/png": "[encoded data removed]",
      "text/plain": [
       "<Figure size 432x288 with 1 Axes>"
      ]
     },
     "metadata": {
      "needs_background": "light"
     },
     "output_type": "display_data"
    },
    {
     "data": {
      "image/png": "[encoded data removed]",
      "text/plain": [
       "<Figure size 432x288 with 1 Axes>"
      ]
     },
     "metadata": {
      "needs_background": "light"
     },
     "output_type": "display_data"
    }
   ],
   "source": [
    "plt.figure()\n",
    "plt.plot(train.history['loss'], 'blue')\n",
    "plt.plot(train.history['val_loss'], 'red')\n",
    "plt.legend(['Training Loss', 'Validation Loss'])\n",
    "plt.xlabel('Epochs')\n",
    "plt.ylabel('Loss')\n",
    "\n",
    "plt.figure()\n",
    "plt.plot(train.history['accuracy'], 'blue')\n",
    "plt.plot(train.history['val_accuracy'], 'red')\n",
    "plt.legend(['Training Accuracy', 'Validation Accuracy'])\n",
    "plt.xlabel('Epochs')\n",
    "plt.ylabel('Accuracy')"
   ]
  }
 ],
 "metadata": {
  "kernelspec": {
   "display_name": "Python 3 (ipykernel)",
   "language": "python",
   "name": "python3"
  },
  "language_info": {
   "codemirror_mode": {
    "name": "ipython",
    "version": 3
   },
   "file_extension": ".py",
   "mimetype": "text/x-python",
   "name": "python",
   "nbconvert_exporter": "python",
   "pygments_lexer": "ipython3",
   "version": "3.9.7"
  },
  "papermill": {
   "default_parameters": {},
   "duration": 138.47036,
   "end_time": "2022-04-11T13:06:23.676149",
   "environment_variables": {},
   "exception": null,
   "input_path": "__notebook__.ipynb",
   "output_path": "__notebook__.ipynb",
   "parameters": {},
   "start_time": "2022-04-11T13:04:05.205789",
   "version": "2.3.3"
  }
 },
 "nbformat": 4,
 "nbformat_minor": 5
}
